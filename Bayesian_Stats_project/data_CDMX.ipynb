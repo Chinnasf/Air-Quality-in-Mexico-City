{
 "cells": [
  {
   "cell_type": "code",
   "execution_count": 1,
   "id": "da79cccb",
   "metadata": {},
   "outputs": [],
   "source": [
    "import stan as st\n",
    "import numpy as np\n",
    "import pandas as pd\n",
    "import re\n",
    "import matplotlib.pyplot as plt\n",
    "\n",
    "from IPython.core.debugger import Pdb #Pdb().set_trace()\n",
    "\n",
    "pd.options.mode.chained_assignment = None  # default='warn'\n",
    "\n",
    "sstyle = \"seaborn-poster\"\n",
    "plt.style.use(sstyle)\n",
    "plt.rc('font',family = 'serif')"
   ]
  },
  {
   "cell_type": "markdown",
   "id": "cb89674a",
   "metadata": {},
   "source": [
    "Data from the [Mexico City Atmospheric Monitoring System (SIMAT)](http://www.aire.cdmx.gob.mx/default.php?opc=%27aKBhnmI=%27&opcion=Zg==)"
   ]
  },
  {
   "cell_type": "code",
   "execution_count": 2,
   "id": "556dcb36",
   "metadata": {},
   "outputs": [],
   "source": [
    "def get_data(year,zone):\n",
    "    # Creating dictionary to retrieve units from id\n",
    "    units = (\n",
    "        pd.read_csv(\"data/info_parameters/cat_unidades.csv\", \n",
    "                    encoding=\"latin-1\")\n",
    "        .rename(columns={\"clave_unidad\":\"unit\"})\n",
    "        .drop(columns=[\"nombre_unidad\"])\n",
    "        .set_index(\"id_unidad\")\n",
    "    )[\"unit\"].to_dict()\n",
    "    # Reading data per year\n",
    "    df = (\n",
    "        pd.read_csv(f\"data/contaminantes_{year}.csv\",\n",
    "                    skiprows=10).rename(columns={\"unit\":\"id_unidad\"})\n",
    "    )\n",
    "    df[\"units\"] = df.id_unidad.map(units); df = df.drop(columns=[\"id_unidad\"])\n",
    "    # Uncomment the following line for data diagnostics:\n",
    "    #print(f\"Available zones for this dataset: {df.id_station.unique()}\")\n",
    "    df = df[df.id_station.isin([zone])]; df = df.drop(columns=[\"id_station\"])\n",
    "    # Getting datasets per contaminat\n",
    "    contaminants = df.id_parameter.unique(); DF_c = []\n",
    "    for c in contaminants:\n",
    "        df_ = df[df.id_parameter.isin([c])]\n",
    "        df_.date = (\n",
    "            pd.to_datetime(\n",
    "                df_.date.str.replace(\" 24:00\",\" 00:00\"),\n",
    "                format=\"%d/%m/%Y %H:%M\"\n",
    "            )\n",
    "        )\n",
    "        df_.set_index(\"date\",inplace=True)\n",
    "        c_name_unit = ((df_.id_parameter.unique()[0], df_.units.unique()[0]))\n",
    "        df_ = df_.groupby(pd.Grouper(freq='D')).mean()\n",
    "        # Setting NaN values to monthly mean\n",
    "        MMdict = (\n",
    "            df_.groupby(pd.Grouper(freq='M'))\n",
    "            .mean()\n",
    "            .set_index(df_.index.month.unique())\n",
    "            .to_dict()\n",
    "        )['value']\n",
    "        df_.reset_index(inplace=True)\n",
    "        nan_idx = df_.loc[df_['value'].isnull(), 'value'].index\n",
    "        df_.loc[nan_idx, 'value'] = df_.date.dt.month.map(MMdict).loc[nan_idx]\n",
    "        # Setting back date as index for convenience\n",
    "        df_.set_index(\"date\",inplace=True)\n",
    "        # Renaming columns with their respective contaminant and units\n",
    "        df_.rename(columns={\"value\":f\"{c_name_unit[0]}_{c_name_unit[-1]}\"},inplace=True)\n",
    "        DF_c.append(df_)  \n",
    "    # Creating a datafram instead of a list of dataframes.\n",
    "    DF_ = DF_c[0]\n",
    "    for df_ in DF_c[1:]:\n",
    "        DF_ = DF_.join(df_) \n",
    "    return DF_"
   ]
  },
  {
   "cell_type": "markdown",
   "id": "7f466fb5",
   "metadata": {},
   "source": [
    "Based on data diagnostics, I am going to work with the Miguel Hidalgo zone. It appears to be the most complete set of data for the contaminants: CO, NO, NO$_2$, NO$_x$, O$_3$, and SO$_2$, for the whole range of time: 2017 - 2022."
   ]
  },
  {
   "cell_type": "code",
   "execution_count": 3,
   "id": "670a06af",
   "metadata": {
    "scrolled": false
   },
   "outputs": [],
   "source": [
    "contaminants = [ 'CO_ppm', 'NO_ppb', 'NO2_ppb',\n",
    "                'NOX_ppb', 'O3_ppb', 'SO2_ppb']\n",
    "# Joining pre-covid and post-covid data:\n",
    "pre_covid = [\n",
    "    get_data(2017,\"MGH\")[contaminants],\n",
    "    get_data(2018,\"MGH\")[contaminants],\n",
    "    get_data(2019,\"MGH\")[contaminants]\n",
    "]; df_pre = pd.concat(pre_covid, axis=0)\n",
    "pos_covid = [\n",
    "    get_data(2020,\"MGH\")[contaminants],\n",
    "    get_data(2021,\"MGH\")[contaminants],\n",
    "    get_data(2022,\"MGH\")[contaminants]\n",
    "]; df_pos = pd.concat(pos_covid, axis=0)"
   ]
  },
  {
   "cell_type": "code",
   "execution_count": 18,
   "id": "c0de92ab",
   "metadata": {},
   "outputs": [],
   "source": [
    "cc =  3"
   ]
  },
  {
   "cell_type": "code",
   "execution_count": 27,
   "id": "a0ef8162",
   "metadata": {},
   "outputs": [
    {
     "data": {
      "image/png": "[encoded data removed]",
      "text/plain": [
       "<Figure size 576x360 with 1 Axes>"
      ]
     },
     "metadata": {
      "needs_background": "light"
     },
     "output_type": "display_data"
    }
   ],
   "source": [
    "plt.figure(figsize=(8,5))\n",
    "plt.scatter(df_pos.index, df_pos[contaminants[cc]], s=7, c=\"indianred\")\n",
    "plt.gcf().autofmt_xdate()\n",
    "plt.ylabel((contaminants[cc].replace(\"_\", \"  [\")+\"]\").replace(\"X\",\"$_X$\"))\n",
    "plt.savefig(\"NOX.pdf\", format=\"pdf\");"
   ]
  },
  {
   "cell_type": "code",
   "execution_count": null,
   "id": "7a58ebd9",
   "metadata": {},
   "outputs": [],
   "source": [
    "xxxxxxxxx"
   ]
  },
  {
   "cell_type": "code",
   "execution_count": null,
   "id": "43dde525",
   "metadata": {},
   "outputs": [],
   "source": [
    "# Dropping periods where there is no data for more than a month\n",
    "df_pre.reset_index(inplace=True); df_pre.dropna(axis=0,inplace=True); df_pre[\"Ndate\"] = range(1,len(df_pre)+1)\n",
    "df_pos.reset_index(inplace=True); df_pos.dropna(axis=0,inplace=True); df_pos[\"Ndate\"] = range(1,len(df_pos)+1)"
   ]
  },
  {
   "cell_type": "code",
   "execution_count": null,
   "id": "4abce2a3",
   "metadata": {},
   "outputs": [],
   "source": [
    "df_pre"
   ]
  },
  {
   "cell_type": "code",
   "execution_count": null,
   "id": "8a9ea457",
   "metadata": {},
   "outputs": [],
   "source": [
    "df_pos"
   ]
  },
  {
   "cell_type": "code",
   "execution_count": null,
   "id": "fc5fd852",
   "metadata": {},
   "outputs": [],
   "source": [
    "df_pre.to_csv(\"data/processed/pre_covid.csv\", index = False)\n",
    "df_pos.to_csv(\"data/processed/pos_covid.csv\", index = False)"
   ]
  },
  {
   "cell_type": "code",
   "execution_count": null,
   "id": "fd23a900",
   "metadata": {},
   "outputs": [],
   "source": [
    "\"\"\"for col in df_pre.columns:\n",
    "    print( df_pos[col].isnull().unique() )\"\"\";"
   ]
  },
  {
   "cell_type": "code",
   "execution_count": null,
   "id": "23201d64",
   "metadata": {},
   "outputs": [],
   "source": [
    "mu_n = 400; sigma_n =  10\n",
    "mu_l = 6; sigma_l = 1.5\n",
    "\n",
    "\n",
    "np.log(mu_n)"
   ]
  },
  {
   "cell_type": "code",
   "execution_count": null,
   "id": "4e807835",
   "metadata": {},
   "outputs": [],
   "source": [
    "np.exp(mu_l + sigma_l*sigma_l/2) # mean from log params"
   ]
  },
  {
   "cell_type": "code",
   "execution_count": null,
   "id": "a3e9d22f",
   "metadata": {},
   "outputs": [],
   "source": [
    "np.sqrt(np.exp(mu_l + sigma_l*sigma_l/2)*(np.exp(sigma_l*sigma_l) - 1)) # standard deviation from log params"
   ]
  },
  {
   "cell_type": "code",
   "execution_count": null,
   "id": "a68a72b4",
   "metadata": {},
   "outputs": [],
   "source": [
    "np.log(np.sqrt(np.exp(mu_l + sigma_l*sigma_l/2)*(np.exp(sigma_l*sigma_l) - 1)))"
   ]
  },
  {
   "cell_type": "code",
   "execution_count": null,
   "id": "0581b874",
   "metadata": {},
   "outputs": [],
   "source": [
    "plt.scatter(df_pos.CO_ppm, df_pos.NOX_ppb, s=2.5)"
   ]
  },
  {
   "cell_type": "code",
   "execution_count": null,
   "id": "32174862",
   "metadata": {},
   "outputs": [],
   "source": [
    "plt.scatter(df_pos.SO2_ppb, df_pos.NOX_ppb, s=2.5)"
   ]
  },
  {
   "cell_type": "code",
   "execution_count": null,
   "id": "e069ac06",
   "metadata": {},
   "outputs": [],
   "source": [
    "plt.scatter(df_pos.O3_ppb, df_pos.NOX_ppb, s=2.5)"
   ]
  },
  {
   "cell_type": "code",
   "execution_count": null,
   "id": "4aa40caa",
   "metadata": {},
   "outputs": [],
   "source": [
    "max(df_pos.NO2_ppb)"
   ]
  },
  {
   "cell_type": "code",
   "execution_count": null,
   "id": "e0687a96",
   "metadata": {},
   "outputs": [],
   "source": []
  }
 ],
 "metadata": {
  "kernelspec": {
   "display_name": "Python 3 (ipykernel)",
   "language": "python",
   "name": "python3"
  },
  "language_info": {
   "codemirror_mode": {
    "name": "ipython",
    "version": 3
   },
   "file_extension": ".py",
   "mimetype": "text/x-python",
   "name": "python",
   "nbconvert_exporter": "python",
   "pygments_lexer": "ipython3",
   "version": "3.10.4"
  }
 },
 "nbformat": 4,
 "nbformat_minor": 5
}
