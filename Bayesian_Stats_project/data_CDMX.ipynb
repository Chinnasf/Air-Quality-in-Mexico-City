{
 "cells": [
  {
   "cell_type": "code",
   "execution_count": 1,
   "id": "da79cccb",
   "metadata": {},
   "outputs": [],
   "source": [
    "import numpy as np\n",
    "import pandas as pd\n",
    "import re\n",
    "import matplotlib.pyplot as plt\n",
    "\n",
    "pd.options.mode.chained_assignment = None  # default='warn'\n",
    "\n",
    "sstyle = \"seaborn-poster\"\n",
    "plt.style.use(sstyle)\n",
    "plt.rc('font',family = 'serif')"
   ]
  },
  {
   "cell_type": "markdown",
   "id": "cb89674a",
   "metadata": {},
   "source": [
    "Data from the [Mexico City Atmospheric Monitoring System (SIMAT)](http://www.aire.cdmx.gob.mx/default.php?opc=%27aKBhnmI=%27&opcion=Zg==)"
   ]
  },
  {
   "cell_type": "code",
   "execution_count": 2,
   "id": "556dcb36",
   "metadata": {},
   "outputs": [],
   "source": [
    "def get_data(year,zone):\n",
    "    # Creating dictionary to retrieve units from id\n",
    "    units = (\n",
    "        pd.read_csv(\"data/info_parameters/cat_unidades.csv\", \n",
    "                    encoding=\"latin-1\")\n",
    "        .rename(columns={\"clave_unidad\":\"unit\"})\n",
    "        .drop(columns=[\"nombre_unidad\"])\n",
    "        .set_index(\"id_unidad\")\n",
    "    )[\"unit\"].to_dict()\n",
    "    # Reading data per year\n",
    "    df = (\n",
    "        pd.read_csv(f\"data/contaminantes_{year}.csv\",\n",
    "                    skiprows=10).rename(columns={\"unit\":\"id_unidad\"})\n",
    "    )\n",
    "    df[\"units\"] = df.id_unidad.map(units); df = df.drop(columns=[\"id_unidad\"])\n",
    "    # Uncomment for data diagnostics:\n",
    "    #print(f\"Available zones for this dataset: {df.id_station.unique()}\")\n",
    "    df = df[df.id_station.isin([zone])]; df = df.drop(columns=[\"id_station\"])\n",
    "    # Getting datasets per contaminat\n",
    "    contaminants = df.id_parameter.unique(); DF_c = []\n",
    "    for c in contaminants:\n",
    "        df_ = df[df.id_parameter.isin([c])]\n",
    "        df_.date = (\n",
    "            pd.to_datetime(\n",
    "                df_.date.str.replace(\" 24:00\",\" 00:00\"),\n",
    "                format=\"%d/%m/%Y %H:%M\"\n",
    "            )\n",
    "        )\n",
    "        df_.set_index(\"date\",inplace=True)\n",
    "        c_name_unit = ((df_.id_parameter.unique()[0], df_.units.unique()[0]))\n",
    "        df_ = df_.groupby(pd.Grouper(freq='D')).mean()\n",
    "        df_.rename(columns={\"value\":f\"{c_name_unit[0]} [{c_name_unit[-1]}]\"},inplace=True)\n",
    "        DF_c.append(df_)  \n",
    "    return DF_c"
   ]
  },
  {
   "cell_type": "code",
   "execution_count": 3,
   "id": "a675151b",
   "metadata": {
    "scrolled": false
   },
   "outputs": [],
   "source": [
    "# For data diagnostics\n",
    "\"\"\"DF = get_data(2020,\"MGH\")\n",
    "for df in DF:\n",
    "    df.plot();\"\"\";"
   ]
  },
  {
   "cell_type": "markdown",
   "id": "7f466fb5",
   "metadata": {},
   "source": [
    "Based on data diagnostics, I am going to work with the Miguel Hidalgo zone. It appears to be the most complete set of data for the contaminants: CO, NO, NO$_2$, NO$_x$, O$_3$, and SO$_2$, for the whole range of time: 2017 - 2022."
   ]
  },
  {
   "cell_type": "code",
   "execution_count": 5,
   "id": "670a06af",
   "metadata": {},
   "outputs": [],
   "source": [
    "DF_whole = get_data(2017,\"MGH\")\n",
    "# samples to be worked, decision based from data diagnostics\n",
    "DF = [DF_whole[i] for i in (list(range(5))+[len(DF_whole)-1])] "
   ]
  },
  {
   "cell_type": "code",
   "execution_count": null,
   "id": "3cf50095",
   "metadata": {},
   "outputs": [],
   "source": []
  }
 ],
 "metadata": {
  "kernelspec": {
   "display_name": "Python 3 (ipykernel)",
   "language": "python",
   "name": "python3"
  },
  "language_info": {
   "codemirror_mode": {
    "name": "ipython",
    "version": 3
   },
   "file_extension": ".py",
   "mimetype": "text/x-python",
   "name": "python",
   "nbconvert_exporter": "python",
   "pygments_lexer": "ipython3",
   "version": "3.10.4"
  }
 },
 "nbformat": 4,
 "nbformat_minor": 5
}
